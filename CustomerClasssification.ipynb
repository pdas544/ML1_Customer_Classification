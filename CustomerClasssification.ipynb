{
 "cells": [
  {
   "cell_type": "markdown",
   "id": "04374be8-d3ab-4663-bd4a-276352af36ea",
   "metadata": {
    "colab_type": "text",
    "id": "NWvRwRdGoK5Y",
    "tags": []
   },
   "source": [
    "---\n",
    "# **Table of Contents**\n",
    "---\n",
    "\n",
    "1. [**Introduction**](#Section1)<br>\n",
    "2. [**Problem Statement**](#Section2)<br>\n",
    "3. [**Installing & Importing Libraries**](#Section3)<br>\n",
    "4. [**Data Gathering, Description and Pre-processing**](#Section4)<br>\n",
    "5. [**Exploratory Data Analysis**](#Section5)<br>\n",
    "6. [**Model Preparation - RandomForestClassifier**](#Section6)</br>\n",
    "7. [**Actionable Insights**](#Section7)</br>\n",
    "\n",
    "---"
   ]
  },
  {
   "cell_type": "markdown",
   "id": "5347426c-43a8-4c7d-a95a-bcff3bfa0bfb",
   "metadata": {
    "colab_type": "text",
    "id": "iACv_4iIoaLi",
    "tags": []
   },
   "source": [
    "---\n",
    "<a name = Section1></a>\n",
    "# **1. Introduction**\n",
    "---\n",
    "\n",
    "\n",
    "### YouthBank is a retail banking institution. ###\n",
    "\n",
    " - Going to float a stock trading facility for their existing customers.\n",
    " - The idea is to use data to classify whether a customer belongs to a high net worth or low net worth group.\n",
    " - We will have to incentivize their customers to adopt their offerings.\n",
    " - One way to incentivize is to offer discounts on the commission for trading transactions.\n",
    "\n",
    "### Current Scenario ###\n",
    "The company rolled out this service to about 10,000+ of its customers and observed their trading behavior for 6 months and after that, they labeled them into two revenue grids 1 and 2."
   ]
  },
  {
   "cell_type": "markdown",
   "id": "918c9a31-1852-4679-9f62-86e2bf2a91bc",
   "metadata": {
    "colab_type": "text",
    "id": "sOGJAM3AoePy"
   },
   "source": [
    "---\n",
    "<a name = Section2></a>\n",
    "# **2. Problem Statement**\n",
    "---\n",
    "\n",
    " - The current process suffers from the following problems:\n",
    "\n",
    " - One issue is that only about 10% of the customers do enough trades for earnings after discounts to be profitable.\n",
    " \n",
    " - The company wants to figure out, which are those 10% customers so that it can selectively offer them a discount.\n",
    "\n",
    " - The marketing department has hired you as a data science consultant because they want to supplement their campaigns with a more proactive approach.\n",
    "\n",
    "\n",
    " - Compnay has details of past customers and their status represented by column (Revenue_Grid 1 or 2).\n",
    "\n",
    "## Project Deliverables ##\n",
    " - Deliverable: Predict whether a customer belongs to a high net worth or low net worth group.\n",
    " - Machine Learning Task: Classification\n",
    " - Target Variable: Revenue_Grid (High net worth (1) / Low net worth (2))\n",
    " - Win Condition: N/A (best possible model)\n",
    "\n",
    "## Evaluation Metric ##\n",
    " - The model evaluation will be based on the F1 Score.\n"
   ]
  },
  {
   "cell_type": "markdown",
   "id": "b9bd0049-4ea2-4004-9ace-9efa94cfc495",
   "metadata": {},
   "source": [
    "---\n",
    "<a name = Section3></a>\n",
    "# **3. Installing and importing Libraries**\n",
    "---"
   ]
  },
  {
   "cell_type": "code",
   "execution_count": 1,
   "id": "4f9de2b9-71c3-4563-a3e9-6fd83765a065",
   "metadata": {
    "tags": []
   },
   "outputs": [],
   "source": [
    "#installing necessary libraries\n",
    "!pip install -q datascience                                         # Package that is required by pandas profiling\n",
    "!pip install -q pandas-profiling                                    # Library to generate basic statistics about data\n",
    "#!pip install -q yellowbrick"
   ]
  },
  {
   "cell_type": "code",
   "execution_count": 4,
   "id": "3279260b-f35c-4af6-a6f0-c9dc51bace29",
   "metadata": {
    "tags": []
   },
   "outputs": [],
   "source": [
    "#importing necessary libraries\n",
    "#------------------------------------------------------------------------------------------------------------------------------\n",
    "import pandas as pd                                                 # Importing for panel data analysis\n",
    "from pandas_profiling import ProfileReport                          # Import Pandas Profiling (To generate Univariate Analysis)\n",
    "pd.set_option('display.max_columns', None)                          # Unfolding hidden features if the cardinality is high\n",
    "pd.set_option('display.max_rows', None)                             # Unfolding hidden data points if the cardinality is high\n",
    "pd.set_option('mode.chained_assignment', None)                      # Removing restriction over chained assignments operations\n",
    "#-------------------------------------------------------------------------------------------------------------------------------\n",
    "import numpy as np                                                  # Importing package numpys (For Numerical Python)\n",
    "from scipy.stats import randint as sp_randint                       # For initializing random integer values\n",
    "#-------------------------------------------------------------------------------------------------------------------------------\n",
    "import matplotlib.pyplot as plt                                     # Importing pyplot interface using matplotlib\n",
    "import seaborn as sns                                               # Importin seaborm library for interactive visualization\n",
    "%matplotlib inline\n",
    "#-------------------------------------------------------------------------------------------------------------------------------\n",
    "from sklearn.preprocessing import StandardScaler                    # To scaled data with mean 0 and variance 1\n",
    "from sklearn.model_selection import train_test_split                # To split the data in training and testing part\n",
    "from sklearn.model_selection import RandomizedSearchCV              # To find best hyperparamter setting for the algorithm\n",
    "from sklearn.ensemble import RandomForestClassifier                 # To implement random forest classifier\n",
    "from sklearn.tree import DecisionTreeClassifier                     # To implement decision tree classifier\n",
    "from sklearn.metrics import classification_report                   # To generate classification report\n",
    "from sklearn.metrics import accuracy_score\n",
    "from sklearn.metrics import plot_confusion_matrix                   # To plot confusion matrix\n",
    "#import pydotplus                                                    # To generate pydot file\n",
    "from IPython.display import Image                                   # To generate image using pydot file\n",
    "#-------------------------------------------------------------------------------------------------------------------------------\n",
    "import warnings                                                     # Importing warning to disable runtime warnings\n",
    "warnings.filterwarnings(\"ignore\")"
   ]
  },
  {
   "cell_type": "markdown",
   "id": "e624c015-3f02-481c-8b8b-d155468b0aed",
   "metadata": {},
   "source": [
    "---\n",
    "<a name = Section3></a>\n",
    "# **4. Data Gathering, Description and Pre-processing**\n",
    "---"
   ]
  },
  {
   "cell_type": "code",
   "execution_count": 5,
   "id": "3d7ae8ca-0814-45b8-8a1f-7908ea8b8e19",
   "metadata": {},
   "outputs": [
    {
     "name": "stdout",
     "output_type": "stream",
     "text": [
      "Shape of the train dataset: (8124, 32)\n",
      "Shape of the test dataset: (2031, 31)\n"
     ]
    }
   ],
   "source": [
    "# Load the data\n",
    "custTrain = pd.read_csv(filepath_or_buffer='./custTrain.csv')\n",
    "custTest = pd.read_csv(filepath_or_buffer='./custTest.csv')\n",
    "\n",
    "# Get the dimensions of data\n",
    "print('Shape of the train dataset:',custTrain.shape)\n",
    "print('Shape of the test dataset:',custTest.shape)"
   ]
  },
  {
   "cell_type": "code",
   "execution_count": 3,
   "id": "e8fd2004-76d1-4766-aaf5-7975b0c6d0b6",
   "metadata": {},
   "outputs": [
    {
     "data": {
      "text/html": [
       "<div>\n",
       "<style scoped>\n",
       "    .dataframe tbody tr th:only-of-type {\n",
       "        vertical-align: middle;\n",
       "    }\n",
       "\n",
       "    .dataframe tbody tr th {\n",
       "        vertical-align: top;\n",
       "    }\n",
       "\n",
       "    .dataframe thead th {\n",
       "        text-align: right;\n",
       "    }\n",
       "</style>\n",
       "<table border=\"1\" class=\"dataframe\">\n",
       "  <thead>\n",
       "    <tr style=\"text-align: right;\">\n",
       "      <th></th>\n",
       "      <th>REF_NO</th>\n",
       "      <th>children</th>\n",
       "      <th>age_band</th>\n",
       "      <th>status</th>\n",
       "      <th>occupation</th>\n",
       "      <th>occupation_partner</th>\n",
       "      <th>home_status</th>\n",
       "      <th>family_income</th>\n",
       "      <th>self_employed</th>\n",
       "      <th>self_employed_partner</th>\n",
       "      <th>year_last_moved</th>\n",
       "      <th>TVarea</th>\n",
       "      <th>post_code</th>\n",
       "      <th>post_area</th>\n",
       "      <th>Average_Credit_Card_Transaction</th>\n",
       "      <th>Balance_Transfer</th>\n",
       "      <th>Term_Deposit</th>\n",
       "      <th>Life_Insurance</th>\n",
       "      <th>Medical_Insurance</th>\n",
       "      <th>Average_A/C_Balance</th>\n",
       "      <th>Personal_Loan</th>\n",
       "      <th>Investment_in_Mutual_Fund</th>\n",
       "      <th>Investment_Tax_Saving_Bond</th>\n",
       "      <th>Home_Loan</th>\n",
       "      <th>Online_Purchase_Amount</th>\n",
       "      <th>gender</th>\n",
       "      <th>region</th>\n",
       "      <th>Investment_in_Commudity</th>\n",
       "      <th>Investment_in_Equity</th>\n",
       "      <th>Investment_in_Derivative</th>\n",
       "      <th>Portfolio_Balance</th>\n",
       "      <th>Revenue_Grid</th>\n",
       "    </tr>\n",
       "  </thead>\n",
       "  <tbody>\n",
       "    <tr>\n",
       "      <th>0</th>\n",
       "      <td>5466</td>\n",
       "      <td>2</td>\n",
       "      <td>31-35</td>\n",
       "      <td>Partner</td>\n",
       "      <td>Professional</td>\n",
       "      <td>Professional</td>\n",
       "      <td>Own Home</td>\n",
       "      <td>&gt;=35,000</td>\n",
       "      <td>No</td>\n",
       "      <td>No</td>\n",
       "      <td>1981</td>\n",
       "      <td>Meridian</td>\n",
       "      <td>M51 0GU</td>\n",
       "      <td>M51</td>\n",
       "      <td>26.98</td>\n",
       "      <td>29.99</td>\n",
       "      <td>312.25</td>\n",
       "      <td>299.79</td>\n",
       "      <td>88.72</td>\n",
       "      <td>108.85</td>\n",
       "      <td>175.43</td>\n",
       "      <td>134.35</td>\n",
       "      <td>8.98</td>\n",
       "      <td>55.44</td>\n",
       "      <td>7.68</td>\n",
       "      <td>Female</td>\n",
       "      <td>North West</td>\n",
       "      <td>151.55</td>\n",
       "      <td>81.79</td>\n",
       "      <td>136.02</td>\n",
       "      <td>360.37</td>\n",
       "      <td>2</td>\n",
       "    </tr>\n",
       "    <tr>\n",
       "      <th>1</th>\n",
       "      <td>9091</td>\n",
       "      <td>Zero</td>\n",
       "      <td>45-50</td>\n",
       "      <td>Partner</td>\n",
       "      <td>Secretarial/Admin</td>\n",
       "      <td>Professional</td>\n",
       "      <td>Own Home</td>\n",
       "      <td>&gt;=35,000</td>\n",
       "      <td>No</td>\n",
       "      <td>No</td>\n",
       "      <td>1997</td>\n",
       "      <td>Meridian</td>\n",
       "      <td>L40 2AG</td>\n",
       "      <td>L40</td>\n",
       "      <td>35.98</td>\n",
       "      <td>74.48</td>\n",
       "      <td>0.00</td>\n",
       "      <td>99.96</td>\n",
       "      <td>10.99</td>\n",
       "      <td>48.45</td>\n",
       "      <td>15.99</td>\n",
       "      <td>0.00</td>\n",
       "      <td>0.00</td>\n",
       "      <td>0.00</td>\n",
       "      <td>18.99</td>\n",
       "      <td>Female</td>\n",
       "      <td>North West</td>\n",
       "      <td>44.28</td>\n",
       "      <td>13.91</td>\n",
       "      <td>29.23</td>\n",
       "      <td>89.22</td>\n",
       "      <td>2</td>\n",
       "    </tr>\n",
       "    <tr>\n",
       "      <th>2</th>\n",
       "      <td>9744</td>\n",
       "      <td>1</td>\n",
       "      <td>36-40</td>\n",
       "      <td>Partner</td>\n",
       "      <td>Manual Worker</td>\n",
       "      <td>Manual Worker</td>\n",
       "      <td>Rent Privately</td>\n",
       "      <td>&lt;22,500, &gt;=20,000</td>\n",
       "      <td>Yes</td>\n",
       "      <td>Yes</td>\n",
       "      <td>1996</td>\n",
       "      <td>HTV</td>\n",
       "      <td>TA19 9PT</td>\n",
       "      <td>TA19</td>\n",
       "      <td>0.00</td>\n",
       "      <td>24.46</td>\n",
       "      <td>0.00</td>\n",
       "      <td>18.44</td>\n",
       "      <td>0.00</td>\n",
       "      <td>0.00</td>\n",
       "      <td>0.02</td>\n",
       "      <td>10.46</td>\n",
       "      <td>0.00</td>\n",
       "      <td>0.00</td>\n",
       "      <td>0.00</td>\n",
       "      <td>Female</td>\n",
       "      <td>South West</td>\n",
       "      <td>8.58</td>\n",
       "      <td>1.75</td>\n",
       "      <td>4.82</td>\n",
       "      <td>14.50</td>\n",
       "      <td>2</td>\n",
       "    </tr>\n",
       "    <tr>\n",
       "      <th>3</th>\n",
       "      <td>10700</td>\n",
       "      <td>2</td>\n",
       "      <td>31-35</td>\n",
       "      <td>Partner</td>\n",
       "      <td>Manual Worker</td>\n",
       "      <td>Manual Worker</td>\n",
       "      <td>Own Home</td>\n",
       "      <td>&lt;25,000, &gt;=22,500</td>\n",
       "      <td>No</td>\n",
       "      <td>No</td>\n",
       "      <td>1990</td>\n",
       "      <td>Scottish TV</td>\n",
       "      <td>FK2 9NG</td>\n",
       "      <td>FK2</td>\n",
       "      <td>44.99</td>\n",
       "      <td>0.00</td>\n",
       "      <td>0.00</td>\n",
       "      <td>0.00</td>\n",
       "      <td>29.99</td>\n",
       "      <td>0.00</td>\n",
       "      <td>0.00</td>\n",
       "      <td>0.00</td>\n",
       "      <td>0.00</td>\n",
       "      <td>0.00</td>\n",
       "      <td>0.00</td>\n",
       "      <td>Female</td>\n",
       "      <td>Scotland</td>\n",
       "      <td>15.00</td>\n",
       "      <td>0.00</td>\n",
       "      <td>5.00</td>\n",
       "      <td>68.98</td>\n",
       "      <td>2</td>\n",
       "    </tr>\n",
       "    <tr>\n",
       "      <th>4</th>\n",
       "      <td>1987</td>\n",
       "      <td>Zero</td>\n",
       "      <td>55-60</td>\n",
       "      <td>Partner</td>\n",
       "      <td>Housewife</td>\n",
       "      <td>Professional</td>\n",
       "      <td>Own Home</td>\n",
       "      <td>&gt;=35,000</td>\n",
       "      <td>No</td>\n",
       "      <td>No</td>\n",
       "      <td>1989</td>\n",
       "      <td>Yorkshire</td>\n",
       "      <td>LS23 7DJ</td>\n",
       "      <td>LS23</td>\n",
       "      <td>0.00</td>\n",
       "      <td>0.00</td>\n",
       "      <td>0.00</td>\n",
       "      <td>0.00</td>\n",
       "      <td>0.00</td>\n",
       "      <td>0.00</td>\n",
       "      <td>0.00</td>\n",
       "      <td>9.98</td>\n",
       "      <td>0.00</td>\n",
       "      <td>0.00</td>\n",
       "      <td>0.00</td>\n",
       "      <td>Female</td>\n",
       "      <td>Unknown</td>\n",
       "      <td>0.00</td>\n",
       "      <td>1.66</td>\n",
       "      <td>1.66</td>\n",
       "      <td>1.88</td>\n",
       "      <td>2</td>\n",
       "    </tr>\n",
       "  </tbody>\n",
       "</table>\n",
       "</div>"
      ],
      "text/plain": [
       "   REF_NO children age_band   status         occupation occupation_partner  \\\n",
       "0    5466        2    31-35  Partner       Professional       Professional   \n",
       "1    9091     Zero    45-50  Partner  Secretarial/Admin       Professional   \n",
       "2    9744        1    36-40  Partner      Manual Worker      Manual Worker   \n",
       "3   10700        2    31-35  Partner      Manual Worker      Manual Worker   \n",
       "4    1987     Zero    55-60  Partner          Housewife       Professional   \n",
       "\n",
       "      home_status      family_income self_employed self_employed_partner  \\\n",
       "0        Own Home           >=35,000            No                    No   \n",
       "1        Own Home           >=35,000            No                    No   \n",
       "2  Rent Privately  <22,500, >=20,000           Yes                   Yes   \n",
       "3        Own Home  <25,000, >=22,500            No                    No   \n",
       "4        Own Home           >=35,000            No                    No   \n",
       "\n",
       "   year_last_moved       TVarea post_code post_area  \\\n",
       "0             1981     Meridian   M51 0GU       M51   \n",
       "1             1997     Meridian   L40 2AG       L40   \n",
       "2             1996          HTV  TA19 9PT      TA19   \n",
       "3             1990  Scottish TV   FK2 9NG       FK2   \n",
       "4             1989    Yorkshire  LS23 7DJ      LS23   \n",
       "\n",
       "   Average_Credit_Card_Transaction  Balance_Transfer  Term_Deposit  \\\n",
       "0                            26.98             29.99        312.25   \n",
       "1                            35.98             74.48          0.00   \n",
       "2                             0.00             24.46          0.00   \n",
       "3                            44.99              0.00          0.00   \n",
       "4                             0.00              0.00          0.00   \n",
       "\n",
       "   Life_Insurance  Medical_Insurance  Average_A/C_Balance  Personal_Loan  \\\n",
       "0          299.79              88.72               108.85         175.43   \n",
       "1           99.96              10.99                48.45          15.99   \n",
       "2           18.44               0.00                 0.00           0.02   \n",
       "3            0.00              29.99                 0.00           0.00   \n",
       "4            0.00               0.00                 0.00           0.00   \n",
       "\n",
       "   Investment_in_Mutual_Fund  Investment_Tax_Saving_Bond  Home_Loan  \\\n",
       "0                     134.35                        8.98      55.44   \n",
       "1                       0.00                        0.00       0.00   \n",
       "2                      10.46                        0.00       0.00   \n",
       "3                       0.00                        0.00       0.00   \n",
       "4                       9.98                        0.00       0.00   \n",
       "\n",
       "   Online_Purchase_Amount  gender      region  Investment_in_Commudity  \\\n",
       "0                    7.68  Female  North West                   151.55   \n",
       "1                   18.99  Female  North West                    44.28   \n",
       "2                    0.00  Female  South West                     8.58   \n",
       "3                    0.00  Female    Scotland                    15.00   \n",
       "4                    0.00  Female     Unknown                     0.00   \n",
       "\n",
       "   Investment_in_Equity  Investment_in_Derivative  Portfolio_Balance  \\\n",
       "0                 81.79                    136.02             360.37   \n",
       "1                 13.91                     29.23              89.22   \n",
       "2                  1.75                      4.82              14.50   \n",
       "3                  0.00                      5.00              68.98   \n",
       "4                  1.66                      1.66               1.88   \n",
       "\n",
       "   Revenue_Grid  \n",
       "0             2  \n",
       "1             2  \n",
       "2             2  \n",
       "3             2  \n",
       "4             2  "
      ]
     },
     "execution_count": 3,
     "metadata": {},
     "output_type": "execute_result"
    }
   ],
   "source": [
    "custTrain.head()"
   ]
  },
  {
   "cell_type": "code",
   "execution_count": 51,
   "id": "8467cd40-2788-41e4-a1cf-51031726c5e9",
   "metadata": {},
   "outputs": [
    {
     "data": {
      "text/html": [
       "<div>\n",
       "<style scoped>\n",
       "    .dataframe tbody tr th:only-of-type {\n",
       "        vertical-align: middle;\n",
       "    }\n",
       "\n",
       "    .dataframe tbody tr th {\n",
       "        vertical-align: top;\n",
       "    }\n",
       "\n",
       "    .dataframe thead th {\n",
       "        text-align: right;\n",
       "    }\n",
       "</style>\n",
       "<table border=\"1\" class=\"dataframe\">\n",
       "  <thead>\n",
       "    <tr style=\"text-align: right;\">\n",
       "      <th></th>\n",
       "      <th>REF_NO</th>\n",
       "      <th>children</th>\n",
       "      <th>age_band</th>\n",
       "      <th>status</th>\n",
       "      <th>occupation</th>\n",
       "      <th>occupation_partner</th>\n",
       "      <th>home_status</th>\n",
       "      <th>family_income</th>\n",
       "      <th>self_employed</th>\n",
       "      <th>self_employed_partner</th>\n",
       "      <th>year_last_moved</th>\n",
       "      <th>TVarea</th>\n",
       "      <th>post_code</th>\n",
       "      <th>post_area</th>\n",
       "      <th>Average_Credit_Card_Transaction</th>\n",
       "      <th>Balance_Transfer</th>\n",
       "      <th>Term_Deposit</th>\n",
       "      <th>Life_Insurance</th>\n",
       "      <th>Medical_Insurance</th>\n",
       "      <th>Average_A/C_Balance</th>\n",
       "      <th>Personal_Loan</th>\n",
       "      <th>Investment_in_Mutual_Fund</th>\n",
       "      <th>Investment_Tax_Saving_Bond</th>\n",
       "      <th>Home_Loan</th>\n",
       "      <th>Online_Purchase_Amount</th>\n",
       "      <th>gender</th>\n",
       "      <th>region</th>\n",
       "      <th>Investment_in_Commudity</th>\n",
       "      <th>Investment_in_Equity</th>\n",
       "      <th>Investment_in_Derivative</th>\n",
       "      <th>Portfolio_Balance</th>\n",
       "    </tr>\n",
       "  </thead>\n",
       "  <tbody>\n",
       "    <tr>\n",
       "      <th>0</th>\n",
       "      <td>697</td>\n",
       "      <td>Zero</td>\n",
       "      <td>71+</td>\n",
       "      <td>Partner</td>\n",
       "      <td>Retired</td>\n",
       "      <td>Housewife</td>\n",
       "      <td>Own Home</td>\n",
       "      <td>&lt;12,500, &gt;=10,000</td>\n",
       "      <td>No</td>\n",
       "      <td>No</td>\n",
       "      <td>1973</td>\n",
       "      <td>Meridian</td>\n",
       "      <td>BH21 2JQ</td>\n",
       "      <td>BH21</td>\n",
       "      <td>41.98</td>\n",
       "      <td>55.47</td>\n",
       "      <td>24.99</td>\n",
       "      <td>29.98</td>\n",
       "      <td>49.98</td>\n",
       "      <td>44.47</td>\n",
       "      <td>0.00</td>\n",
       "      <td>45.97</td>\n",
       "      <td>0.00</td>\n",
       "      <td>0.00</td>\n",
       "      <td>0.00</td>\n",
       "      <td>Male</td>\n",
       "      <td>South West</td>\n",
       "      <td>40.48</td>\n",
       "      <td>15.07</td>\n",
       "      <td>28.40</td>\n",
       "      <td>83.05</td>\n",
       "    </tr>\n",
       "    <tr>\n",
       "      <th>1</th>\n",
       "      <td>7897</td>\n",
       "      <td>Zero</td>\n",
       "      <td>31-35</td>\n",
       "      <td>Partner</td>\n",
       "      <td>Unknown</td>\n",
       "      <td>Business Manager</td>\n",
       "      <td>Own Home</td>\n",
       "      <td>&gt;=35,000</td>\n",
       "      <td>No</td>\n",
       "      <td>No</td>\n",
       "      <td>1996</td>\n",
       "      <td>Anglia</td>\n",
       "      <td>CM6 3QS</td>\n",
       "      <td>CM6</td>\n",
       "      <td>0.00</td>\n",
       "      <td>0.00</td>\n",
       "      <td>0.00</td>\n",
       "      <td>99.91</td>\n",
       "      <td>35.42</td>\n",
       "      <td>29.49</td>\n",
       "      <td>170.31</td>\n",
       "      <td>133.88</td>\n",
       "      <td>27.45</td>\n",
       "      <td>13.47</td>\n",
       "      <td>57.46</td>\n",
       "      <td>Male</td>\n",
       "      <td>South East</td>\n",
       "      <td>27.07</td>\n",
       "      <td>72.01</td>\n",
       "      <td>82.74</td>\n",
       "      <td>235.29</td>\n",
       "    </tr>\n",
       "    <tr>\n",
       "      <th>2</th>\n",
       "      <td>4729</td>\n",
       "      <td>Zero</td>\n",
       "      <td>71+</td>\n",
       "      <td>Partner</td>\n",
       "      <td>Housewife</td>\n",
       "      <td>Retired</td>\n",
       "      <td>Own Home</td>\n",
       "      <td>&lt;15,000, &gt;=12,500</td>\n",
       "      <td>No</td>\n",
       "      <td>No</td>\n",
       "      <td>1958</td>\n",
       "      <td>HTV</td>\n",
       "      <td>BA12 9JW</td>\n",
       "      <td>BA12</td>\n",
       "      <td>0.00</td>\n",
       "      <td>154.47</td>\n",
       "      <td>0.00</td>\n",
       "      <td>67.47</td>\n",
       "      <td>0.00</td>\n",
       "      <td>87.83</td>\n",
       "      <td>0.00</td>\n",
       "      <td>107.88</td>\n",
       "      <td>0.00</td>\n",
       "      <td>0.00</td>\n",
       "      <td>0.00</td>\n",
       "      <td>Female</td>\n",
       "      <td>South West</td>\n",
       "      <td>44.39</td>\n",
       "      <td>32.62</td>\n",
       "      <td>43.86</td>\n",
       "      <td>98.38</td>\n",
       "    </tr>\n",
       "    <tr>\n",
       "      <th>3</th>\n",
       "      <td>6914</td>\n",
       "      <td>1</td>\n",
       "      <td>22-25</td>\n",
       "      <td>Partner</td>\n",
       "      <td>Other</td>\n",
       "      <td>Other</td>\n",
       "      <td>Own Home</td>\n",
       "      <td>&lt;17,500, &gt;=15,000</td>\n",
       "      <td>No</td>\n",
       "      <td>No</td>\n",
       "      <td>1993</td>\n",
       "      <td>Grampian</td>\n",
       "      <td>AB22 8SP</td>\n",
       "      <td>AB22</td>\n",
       "      <td>18.98</td>\n",
       "      <td>60.98</td>\n",
       "      <td>0.00</td>\n",
       "      <td>17.99</td>\n",
       "      <td>9.99</td>\n",
       "      <td>0.00</td>\n",
       "      <td>102.43</td>\n",
       "      <td>44.96</td>\n",
       "      <td>0.00</td>\n",
       "      <td>0.00</td>\n",
       "      <td>0.00</td>\n",
       "      <td>Female</td>\n",
       "      <td>Scotland</td>\n",
       "      <td>21.59</td>\n",
       "      <td>24.57</td>\n",
       "      <td>29.23</td>\n",
       "      <td>86.32</td>\n",
       "    </tr>\n",
       "    <tr>\n",
       "      <th>4</th>\n",
       "      <td>2795</td>\n",
       "      <td>Zero</td>\n",
       "      <td>65-70</td>\n",
       "      <td>Widowed</td>\n",
       "      <td>Retired</td>\n",
       "      <td>Unknown</td>\n",
       "      <td>Own Home</td>\n",
       "      <td>&lt; 4,000</td>\n",
       "      <td>No</td>\n",
       "      <td>No</td>\n",
       "      <td>1976</td>\n",
       "      <td>Meridian</td>\n",
       "      <td>PO37 6AD</td>\n",
       "      <td>PO37</td>\n",
       "      <td>0.00</td>\n",
       "      <td>144.90</td>\n",
       "      <td>0.00</td>\n",
       "      <td>123.38</td>\n",
       "      <td>0.00</td>\n",
       "      <td>32.98</td>\n",
       "      <td>0.00</td>\n",
       "      <td>33.96</td>\n",
       "      <td>6.99</td>\n",
       "      <td>17.93</td>\n",
       "      <td>5.45</td>\n",
       "      <td>Female</td>\n",
       "      <td>South East</td>\n",
       "      <td>53.66</td>\n",
       "      <td>16.22</td>\n",
       "      <td>32.89</td>\n",
       "      <td>102.99</td>\n",
       "    </tr>\n",
       "  </tbody>\n",
       "</table>\n",
       "</div>"
      ],
      "text/plain": [
       "   REF_NO children age_band   status occupation occupation_partner  \\\n",
       "0     697     Zero      71+  Partner    Retired          Housewife   \n",
       "1    7897     Zero    31-35  Partner    Unknown   Business Manager   \n",
       "2    4729     Zero      71+  Partner  Housewife            Retired   \n",
       "3    6914        1    22-25  Partner      Other              Other   \n",
       "4    2795     Zero    65-70  Widowed    Retired            Unknown   \n",
       "\n",
       "  home_status      family_income self_employed self_employed_partner  \\\n",
       "0    Own Home  <12,500, >=10,000            No                    No   \n",
       "1    Own Home           >=35,000            No                    No   \n",
       "2    Own Home  <15,000, >=12,500            No                    No   \n",
       "3    Own Home  <17,500, >=15,000            No                    No   \n",
       "4    Own Home            < 4,000            No                    No   \n",
       "\n",
       "   year_last_moved    TVarea post_code post_area  \\\n",
       "0             1973  Meridian  BH21 2JQ      BH21   \n",
       "1             1996    Anglia   CM6 3QS       CM6   \n",
       "2             1958       HTV  BA12 9JW      BA12   \n",
       "3             1993  Grampian  AB22 8SP      AB22   \n",
       "4             1976  Meridian  PO37 6AD      PO37   \n",
       "\n",
       "   Average_Credit_Card_Transaction  Balance_Transfer  Term_Deposit  \\\n",
       "0                            41.98             55.47         24.99   \n",
       "1                             0.00              0.00          0.00   \n",
       "2                             0.00            154.47          0.00   \n",
       "3                            18.98             60.98          0.00   \n",
       "4                             0.00            144.90          0.00   \n",
       "\n",
       "   Life_Insurance  Medical_Insurance  Average_A/C_Balance  Personal_Loan  \\\n",
       "0           29.98              49.98                44.47           0.00   \n",
       "1           99.91              35.42                29.49         170.31   \n",
       "2           67.47               0.00                87.83           0.00   \n",
       "3           17.99               9.99                 0.00         102.43   \n",
       "4          123.38               0.00                32.98           0.00   \n",
       "\n",
       "   Investment_in_Mutual_Fund  Investment_Tax_Saving_Bond  Home_Loan  \\\n",
       "0                      45.97                        0.00       0.00   \n",
       "1                     133.88                       27.45      13.47   \n",
       "2                     107.88                        0.00       0.00   \n",
       "3                      44.96                        0.00       0.00   \n",
       "4                      33.96                        6.99      17.93   \n",
       "\n",
       "   Online_Purchase_Amount  gender      region  Investment_in_Commudity  \\\n",
       "0                    0.00    Male  South West                    40.48   \n",
       "1                   57.46    Male  South East                    27.07   \n",
       "2                    0.00  Female  South West                    44.39   \n",
       "3                    0.00  Female    Scotland                    21.59   \n",
       "4                    5.45  Female  South East                    53.66   \n",
       "\n",
       "   Investment_in_Equity  Investment_in_Derivative  Portfolio_Balance  \n",
       "0                 15.07                     28.40              83.05  \n",
       "1                 72.01                     82.74             235.29  \n",
       "2                 32.62                     43.86              98.38  \n",
       "3                 24.57                     29.23              86.32  \n",
       "4                 16.22                     32.89             102.99  "
      ]
     },
     "execution_count": 51,
     "metadata": {},
     "output_type": "execute_result"
    }
   ],
   "source": [
    "custTest.head()"
   ]
  },
  {
   "cell_type": "code",
   "execution_count": 29,
   "id": "1dd4b844-bfef-4137-aaf1-5e236bb44f93",
   "metadata": {
    "jupyter": {
     "source_hidden": true
    },
    "tags": []
   },
   "outputs": [
    {
     "name": "stdout",
     "output_type": "stream",
     "text": [
      "<class 'pandas.core.frame.DataFrame'>\n",
      "RangeIndex: 8124 entries, 0 to 8123\n",
      "Data columns (total 32 columns):\n",
      " #   Column                           Non-Null Count  Dtype  \n",
      "---  ------                           --------------  -----  \n",
      " 0   REF_NO                           8124 non-null   int64  \n",
      " 1   children                         8124 non-null   object \n",
      " 2   age_band                         8124 non-null   object \n",
      " 3   status                           8124 non-null   object \n",
      " 4   occupation                       8124 non-null   object \n",
      " 5   occupation_partner               8124 non-null   object \n",
      " 6   home_status                      8124 non-null   object \n",
      " 7   family_income                    8124 non-null   object \n",
      " 8   self_employed                    8124 non-null   object \n",
      " 9   self_employed_partner            8124 non-null   object \n",
      " 10  year_last_moved                  8124 non-null   int64  \n",
      " 11  TVarea                           8124 non-null   object \n",
      " 12  post_code                        8124 non-null   object \n",
      " 13  post_area                        8124 non-null   object \n",
      " 14  Average_Credit_Card_Transaction  8124 non-null   float64\n",
      " 15  Balance_Transfer                 8124 non-null   float64\n",
      " 16  Term_Deposit                     8124 non-null   float64\n",
      " 17  Life_Insurance                   8124 non-null   float64\n",
      " 18  Medical_Insurance                8124 non-null   float64\n",
      " 19  Average_A/C_Balance              8124 non-null   float64\n",
      " 20  Personal_Loan                    8124 non-null   float64\n",
      " 21  Investment_in_Mutual_Fund        8124 non-null   float64\n",
      " 22  Investment_Tax_Saving_Bond       8124 non-null   float64\n",
      " 23  Home_Loan                        8124 non-null   float64\n",
      " 24  Online_Purchase_Amount           8124 non-null   float64\n",
      " 25  gender                           8124 non-null   object \n",
      " 26  region                           8124 non-null   object \n",
      " 27  Investment_in_Commudity          8124 non-null   float64\n",
      " 28  Investment_in_Equity             8124 non-null   float64\n",
      " 29  Investment_in_Derivative         8124 non-null   float64\n",
      " 30  Portfolio_Balance                8124 non-null   float64\n",
      " 31  Revenue_Grid                     8124 non-null   int64  \n",
      "dtypes: float64(15), int64(3), object(14)\n",
      "memory usage: 2.0+ MB\n"
     ]
    }
   ],
   "source": [
    "custTrain.info()"
   ]
  },
  {
   "cell_type": "code",
   "execution_count": 53,
   "id": "8255aebc-3b19-46d8-a553-fd94d3165808",
   "metadata": {},
   "outputs": [
    {
     "data": {
      "text/plain": [
       "(2031, 31)"
      ]
     },
     "execution_count": 53,
     "metadata": {},
     "output_type": "execute_result"
    }
   ],
   "source": [
    "custTest.shape"
   ]
  },
  {
   "cell_type": "code",
   "execution_count": 10,
   "id": "b839cd4f-80e6-4b78-b045-bab489df17e0",
   "metadata": {
    "tags": []
   },
   "outputs": [
    {
     "data": {
      "text/html": [
       "<div>\n",
       "<style scoped>\n",
       "    .dataframe tbody tr th:only-of-type {\n",
       "        vertical-align: middle;\n",
       "    }\n",
       "\n",
       "    .dataframe tbody tr th {\n",
       "        vertical-align: top;\n",
       "    }\n",
       "\n",
       "    .dataframe thead th {\n",
       "        text-align: right;\n",
       "    }\n",
       "</style>\n",
       "<table border=\"1\" class=\"dataframe\">\n",
       "  <thead>\n",
       "    <tr style=\"text-align: right;\">\n",
       "      <th></th>\n",
       "      <th>REF_NO</th>\n",
       "      <th>year_last_moved</th>\n",
       "      <th>Average_Credit_Card_Transaction</th>\n",
       "      <th>Balance_Transfer</th>\n",
       "      <th>Term_Deposit</th>\n",
       "      <th>Life_Insurance</th>\n",
       "      <th>Medical_Insurance</th>\n",
       "      <th>Average_A/C_Balance</th>\n",
       "      <th>Personal_Loan</th>\n",
       "      <th>Investment_in_Mutual_Fund</th>\n",
       "      <th>Investment_Tax_Saving_Bond</th>\n",
       "      <th>Home_Loan</th>\n",
       "      <th>Online_Purchase_Amount</th>\n",
       "      <th>Investment_in_Commudity</th>\n",
       "      <th>Investment_in_Equity</th>\n",
       "      <th>Investment_in_Derivative</th>\n",
       "      <th>Portfolio_Balance</th>\n",
       "      <th>Revenue_Grid</th>\n",
       "    </tr>\n",
       "  </thead>\n",
       "  <tbody>\n",
       "    <tr>\n",
       "      <th>count</th>\n",
       "      <td>8124.000000</td>\n",
       "      <td>8124.000000</td>\n",
       "      <td>8124.000000</td>\n",
       "      <td>8124.000000</td>\n",
       "      <td>8124.000000</td>\n",
       "      <td>8124.000000</td>\n",
       "      <td>8124.000000</td>\n",
       "      <td>8124.000000</td>\n",
       "      <td>8124.00000</td>\n",
       "      <td>8124.000000</td>\n",
       "      <td>8124.000000</td>\n",
       "      <td>8124.000000</td>\n",
       "      <td>8124.000000</td>\n",
       "      <td>8124.000000</td>\n",
       "      <td>8124.000000</td>\n",
       "      <td>8124.000000</td>\n",
       "      <td>8124.000000</td>\n",
       "      <td>8124.000000</td>\n",
       "    </tr>\n",
       "    <tr>\n",
       "      <th>mean</th>\n",
       "      <td>5797.343304</td>\n",
       "      <td>1967.876908</td>\n",
       "      <td>23.251094</td>\n",
       "      <td>46.082922</td>\n",
       "      <td>27.284649</td>\n",
       "      <td>65.317939</td>\n",
       "      <td>18.826195</td>\n",
       "      <td>31.838023</td>\n",
       "      <td>25.41583</td>\n",
       "      <td>41.723628</td>\n",
       "      <td>6.057246</td>\n",
       "      <td>4.416914</td>\n",
       "      <td>19.198658</td>\n",
       "      <td>36.152749</td>\n",
       "      <td>21.442475</td>\n",
       "      <td>31.530652</td>\n",
       "      <td>89.353368</td>\n",
       "      <td>1.894141</td>\n",
       "    </tr>\n",
       "    <tr>\n",
       "      <th>std</th>\n",
       "      <td>3322.497568</td>\n",
       "      <td>182.563785</td>\n",
       "      <td>51.147496</td>\n",
       "      <td>79.084692</td>\n",
       "      <td>54.133537</td>\n",
       "      <td>95.762451</td>\n",
       "      <td>32.022332</td>\n",
       "      <td>45.249440</td>\n",
       "      <td>85.13015</td>\n",
       "      <td>64.416023</td>\n",
       "      <td>12.673374</td>\n",
       "      <td>9.945747</td>\n",
       "      <td>92.343126</td>\n",
       "      <td>42.474953</td>\n",
       "      <td>32.261660</td>\n",
       "      <td>39.480660</td>\n",
       "      <td>108.303538</td>\n",
       "      <td>0.307676</td>\n",
       "    </tr>\n",
       "    <tr>\n",
       "      <th>min</th>\n",
       "      <td>2.000000</td>\n",
       "      <td>0.000000</td>\n",
       "      <td>0.000000</td>\n",
       "      <td>0.000000</td>\n",
       "      <td>0.000000</td>\n",
       "      <td>0.000000</td>\n",
       "      <td>0.000000</td>\n",
       "      <td>0.000000</td>\n",
       "      <td>0.00000</td>\n",
       "      <td>0.000000</td>\n",
       "      <td>0.000000</td>\n",
       "      <td>0.000000</td>\n",
       "      <td>0.000000</td>\n",
       "      <td>0.000000</td>\n",
       "      <td>0.000000</td>\n",
       "      <td>0.000000</td>\n",
       "      <td>-78.430000</td>\n",
       "      <td>1.000000</td>\n",
       "    </tr>\n",
       "    <tr>\n",
       "      <th>25%</th>\n",
       "      <td>2924.750000</td>\n",
       "      <td>1978.000000</td>\n",
       "      <td>0.000000</td>\n",
       "      <td>0.000000</td>\n",
       "      <td>0.000000</td>\n",
       "      <td>0.000000</td>\n",
       "      <td>0.000000</td>\n",
       "      <td>0.000000</td>\n",
       "      <td>0.00000</td>\n",
       "      <td>0.000000</td>\n",
       "      <td>0.000000</td>\n",
       "      <td>0.000000</td>\n",
       "      <td>0.000000</td>\n",
       "      <td>8.282500</td>\n",
       "      <td>4.660000</td>\n",
       "      <td>8.740000</td>\n",
       "      <td>26.277500</td>\n",
       "      <td>2.000000</td>\n",
       "    </tr>\n",
       "    <tr>\n",
       "      <th>50%</th>\n",
       "      <td>5811.500000</td>\n",
       "      <td>1988.000000</td>\n",
       "      <td>0.000000</td>\n",
       "      <td>17.485000</td>\n",
       "      <td>0.000000</td>\n",
       "      <td>31.475000</td>\n",
       "      <td>0.010000</td>\n",
       "      <td>14.980000</td>\n",
       "      <td>0.00000</td>\n",
       "      <td>23.480000</td>\n",
       "      <td>0.000000</td>\n",
       "      <td>0.000000</td>\n",
       "      <td>0.000000</td>\n",
       "      <td>23.590000</td>\n",
       "      <td>12.820000</td>\n",
       "      <td>21.140000</td>\n",
       "      <td>65.560000</td>\n",
       "      <td>2.000000</td>\n",
       "    </tr>\n",
       "    <tr>\n",
       "      <th>75%</th>\n",
       "      <td>8681.500000</td>\n",
       "      <td>1994.000000</td>\n",
       "      <td>23.480000</td>\n",
       "      <td>64.990000</td>\n",
       "      <td>34.490000</td>\n",
       "      <td>92.887500</td>\n",
       "      <td>26.970000</td>\n",
       "      <td>45.922500</td>\n",
       "      <td>20.82750</td>\n",
       "      <td>59.440000</td>\n",
       "      <td>5.490000</td>\n",
       "      <td>4.490000</td>\n",
       "      <td>7.480000</td>\n",
       "      <td>49.795000</td>\n",
       "      <td>27.972500</td>\n",
       "      <td>42.392500</td>\n",
       "      <td>123.970000</td>\n",
       "      <td>2.000000</td>\n",
       "    </tr>\n",
       "    <tr>\n",
       "      <th>max</th>\n",
       "      <td>11518.000000</td>\n",
       "      <td>1999.000000</td>\n",
       "      <td>662.260000</td>\n",
       "      <td>2951.760000</td>\n",
       "      <td>784.820000</td>\n",
       "      <td>2930.410000</td>\n",
       "      <td>591.040000</td>\n",
       "      <td>626.240000</td>\n",
       "      <td>4905.93000</td>\n",
       "      <td>2561.270000</td>\n",
       "      <td>156.870000</td>\n",
       "      <td>162.350000</td>\n",
       "      <td>4306.420000</td>\n",
       "      <td>1231.090000</td>\n",
       "      <td>1279.100000</td>\n",
       "      <td>1771.160000</td>\n",
       "      <td>4283.560000</td>\n",
       "      <td>2.000000</td>\n",
       "    </tr>\n",
       "  </tbody>\n",
       "</table>\n",
       "</div>"
      ],
      "text/plain": [
       "             REF_NO  year_last_moved  Average_Credit_Card_Transaction  \\\n",
       "count   8124.000000      8124.000000                      8124.000000   \n",
       "mean    5797.343304      1967.876908                        23.251094   \n",
       "std     3322.497568       182.563785                        51.147496   \n",
       "min        2.000000         0.000000                         0.000000   \n",
       "25%     2924.750000      1978.000000                         0.000000   \n",
       "50%     5811.500000      1988.000000                         0.000000   \n",
       "75%     8681.500000      1994.000000                        23.480000   \n",
       "max    11518.000000      1999.000000                       662.260000   \n",
       "\n",
       "       Balance_Transfer  Term_Deposit  Life_Insurance  Medical_Insurance  \\\n",
       "count       8124.000000   8124.000000     8124.000000        8124.000000   \n",
       "mean          46.082922     27.284649       65.317939          18.826195   \n",
       "std           79.084692     54.133537       95.762451          32.022332   \n",
       "min            0.000000      0.000000        0.000000           0.000000   \n",
       "25%            0.000000      0.000000        0.000000           0.000000   \n",
       "50%           17.485000      0.000000       31.475000           0.010000   \n",
       "75%           64.990000     34.490000       92.887500          26.970000   \n",
       "max         2951.760000    784.820000     2930.410000         591.040000   \n",
       "\n",
       "       Average_A/C_Balance  Personal_Loan  Investment_in_Mutual_Fund  \\\n",
       "count          8124.000000     8124.00000                8124.000000   \n",
       "mean             31.838023       25.41583                  41.723628   \n",
       "std              45.249440       85.13015                  64.416023   \n",
       "min               0.000000        0.00000                   0.000000   \n",
       "25%               0.000000        0.00000                   0.000000   \n",
       "50%              14.980000        0.00000                  23.480000   \n",
       "75%              45.922500       20.82750                  59.440000   \n",
       "max             626.240000     4905.93000                2561.270000   \n",
       "\n",
       "       Investment_Tax_Saving_Bond    Home_Loan  Online_Purchase_Amount  \\\n",
       "count                 8124.000000  8124.000000             8124.000000   \n",
       "mean                     6.057246     4.416914               19.198658   \n",
       "std                     12.673374     9.945747               92.343126   \n",
       "min                      0.000000     0.000000                0.000000   \n",
       "25%                      0.000000     0.000000                0.000000   \n",
       "50%                      0.000000     0.000000                0.000000   \n",
       "75%                      5.490000     4.490000                7.480000   \n",
       "max                    156.870000   162.350000             4306.420000   \n",
       "\n",
       "       Investment_in_Commudity  Investment_in_Equity  \\\n",
       "count              8124.000000           8124.000000   \n",
       "mean                 36.152749             21.442475   \n",
       "std                  42.474953             32.261660   \n",
       "min                   0.000000              0.000000   \n",
       "25%                   8.282500              4.660000   \n",
       "50%                  23.590000             12.820000   \n",
       "75%                  49.795000             27.972500   \n",
       "max                1231.090000           1279.100000   \n",
       "\n",
       "       Investment_in_Derivative  Portfolio_Balance  Revenue_Grid  \n",
       "count               8124.000000        8124.000000   8124.000000  \n",
       "mean                  31.530652          89.353368      1.894141  \n",
       "std                   39.480660         108.303538      0.307676  \n",
       "min                    0.000000         -78.430000      1.000000  \n",
       "25%                    8.740000          26.277500      2.000000  \n",
       "50%                   21.140000          65.560000      2.000000  \n",
       "75%                   42.392500         123.970000      2.000000  \n",
       "max                 1771.160000        4283.560000      2.000000  "
      ]
     },
     "execution_count": 10,
     "metadata": {},
     "output_type": "execute_result"
    }
   ],
   "source": [
    "custTrain.describe()"
   ]
  },
  {
   "cell_type": "code",
   "execution_count": 6,
   "id": "d26f65ca-96c8-4b63-b2ad-62b6550ebe8f",
   "metadata": {},
   "outputs": [
    {
     "name": "stdout",
     "output_type": "stream",
     "text": [
      "53594.73\n",
      "52242.72\n",
      "39067.78\n",
      "42339.600000000006\n",
      "14248.23\n",
      "133732.30000000002\n"
     ]
    }
   ],
   "source": [
    "#total investments made by high networth individuals(1)\n",
    "print(custTrain[custTrain['Revenue_Grid']==1]['Investment_in_Mutual_Fund'].sum())\n",
    "print(custTrain[custTrain['Revenue_Grid']==1]['Investment_in_Commudity'].sum())\n",
    "print(custTrain[custTrain['Revenue_Grid']==1]['Investment_in_Equity'].sum())\n",
    "print(custTrain[custTrain['Revenue_Grid']==1]['Investment_in_Derivative'].sum())\n",
    "print(custTrain[custTrain['Revenue_Grid']==1]['Investment_Tax_Saving_Bond'].sum())\n",
    "print(custTrain[custTrain['Revenue_Grid']==1]['Portfolio_Balance'].sum())"
   ]
  },
  {
   "cell_type": "code",
   "execution_count": 9,
   "id": "15cbbf37-bc25-4d04-8f6b-43dfe779eff5",
   "metadata": {},
   "outputs": [
    {
     "name": "stdout",
     "output_type": "stream",
     "text": [
      "285368.02\n",
      "241462.21000000002\n",
      "135130.89\n",
      "213815.42\n",
      "34960.84\n",
      "592174.46\n"
     ]
    }
   ],
   "source": [
    "#total investments made by low networth individuals(2)\n",
    "print(custTrain[custTrain['Revenue_Grid']==2]['Investment_in_Mutual_Fund'].sum())\n",
    "print(custTrain[custTrain['Revenue_Grid']==2]['Investment_in_Commudity'].sum())\n",
    "print(custTrain[custTrain['Revenue_Grid']==2]['Investment_in_Equity'].sum())\n",
    "print(custTrain[custTrain['Revenue_Grid']==2]['Investment_in_Derivative'].sum())\n",
    "print(custTrain[custTrain['Revenue_Grid']==2]['Investment_Tax_Saving_Bond'].sum())\n",
    "print(custTrain[custTrain['Revenue_Grid']==2]['Portfolio_Balance'].sum())"
   ]
  },
  {
   "cell_type": "code",
   "execution_count": 71,
   "id": "36d0e31a-763a-4c89-8f7e-cd2161f2be8c",
   "metadata": {},
   "outputs": [
    {
     "data": {
      "text/plain": [
       "REF_NO                             -0.012803\n",
       "year_last_moved                   -10.639671\n",
       "Average_Credit_Card_Transaction     3.761152\n",
       "Balance_Transfer                    8.173734\n",
       "Term_Deposit                        4.174163\n",
       "Life_Insurance                      5.509379\n",
       "Medical_Insurance                   3.361940\n",
       "Average_A/C_Balance                 2.689985\n",
       "Personal_Loan                      26.159596\n",
       "Investment_in_Mutual_Fund           9.667247\n",
       "Investment_Tax_Saving_Bond          3.191713\n",
       "Home_Loan                           3.977657\n",
       "Online_Purchase_Amount             21.763954\n",
       "Investment_in_Commudity             4.816122\n",
       "Investment_in_Equity               11.524906\n",
       "Investment_in_Derivative           12.462312\n",
       "Portfolio_Balance                   8.895472\n",
       "Revenue_Grid                       -2.562680\n",
       "dtype: float64"
      ]
     },
     "execution_count": 71,
     "metadata": {},
     "output_type": "execute_result"
    }
   ],
   "source": [
    "custTrain.skew()"
   ]
  },
  {
   "cell_type": "code",
   "execution_count": 12,
   "id": "6561b614-cdfc-4d7d-8629-3543461a9bac",
   "metadata": {},
   "outputs": [],
   "source": [
    "#function for annotating sns bar/count plot\n",
    "\n",
    "def show_values(axs, orient=\"v\", space=.01):\n",
    "    def _single(ax):\n",
    "        if orient == \"v\":\n",
    "            for p in ax.patches:\n",
    "                _x = p.get_x() + p.get_width() / 2\n",
    "                _y = p.get_y() + p.get_height() + (p.get_height()*0.01)\n",
    "                value = '{:.0f}'.format(p.get_height())\n",
    "                ax.text(_x, _y, value, ha=\"center\") \n",
    "        elif orient == \"h\":\n",
    "            for p in ax.patches:\n",
    "                _x = p.get_x() + p.get_width() + float(space)\n",
    "                _y = p.get_y() + p.get_height() - (p.get_height()*0.5)\n",
    "                value = '{:.0f}'.format(p.get_width())\n",
    "                ax.text(_x, _y, value, ha=\"left\")\n",
    "\n",
    "    if isinstance(axs, np.ndarray):\n",
    "        for idx, ax in np.ndenumerate(axs):\n",
    "            _single(ax)\n",
    "    else:\n",
    "        _single(axs)"
   ]
  },
  {
   "cell_type": "code",
   "execution_count": 25,
   "id": "d625646f-eea8-4729-93e8-c1f1a5af1975",
   "metadata": {},
   "outputs": [
    {
     "data": {
      "image/png": "[encoded data removed]",
      "text/plain": [
       "<Figure size 1080x504 with 2 Axes>"
      ]
     },
     "metadata": {
      "needs_background": "light"
     },
     "output_type": "display_data"
    }
   ],
   "source": [
    "#correlation between various features\n",
    "#by-default only numerical features are taken\n",
    "\n",
    "corr = custTrain.corr().abs()\n",
    "\n",
    "mask = np.triu(np.ones_like(corr, dtype=np.bool))\n",
    "\n",
    "plt.figure(figsize=(15,7))\n",
    "\n",
    "# plot heatmap\n",
    "sns.heatmap(corr, mask=mask, annot=True, fmt=\".2f\", cmap='coolwarm',\n",
    "            cbar_kws={\"shrink\": .8}, vmin=0, vmax=1)\n",
    "# yticks\n",
    "#plt.yticks(rotation=0)\n",
    "plt.show()"
   ]
  },
  {
   "cell_type": "code",
   "execution_count": 65,
   "id": "7ee171f2-2cbe-42d2-9c63-15f9f14f4d22",
   "metadata": {},
   "outputs": [
    {
     "data": {
      "image/png": "[encoded data removed]",
      "text/plain": [
       "<Figure size 1080x504 with 1 Axes>"
      ]
     },
     "metadata": {
      "needs_background": "light"
     },
     "output_type": "display_data"
    }
   ],
   "source": [
    "#Revenue Grid based on occupation\n",
    "fig = plt.figure(figsize=[15, 7])\n",
    "\n",
    "\n",
    "\n",
    "ax = sns.countplot(x='occupation',hue='Revenue_Grid',data=custTrain)\n",
    "\n",
    "show_values(ax)\n",
    "\n",
    "ax.set_title(label =  'Status of Customers - Occupation wise', size = 12)\n",
    "ax.set_xlabel(xlabel = 'Occupation')\n",
    "plt.show()"
   ]
  },
  {
   "cell_type": "code",
   "execution_count": 64,
   "id": "fe78e963-7053-49f8-bfab-f3d240e7668b",
   "metadata": {},
   "outputs": [
    {
     "data": {
      "image/png": "[encoded data removed]",
      "text/plain": [
       "<Figure size 1080x504 with 1 Axes>"
      ]
     },
     "metadata": {
      "needs_background": "light"
     },
     "output_type": "display_data"
    }
   ],
   "source": [
    "#displaying Revenue Grid data age group wise\n",
    "\n",
    "fig = plt.figure(figsize=[15, 7])\n",
    "\n",
    "ax = sns.countplot(x='age_band',hue='Revenue_Grid',data=custTrain)\n",
    "\n",
    "show_values(ax)\n",
    "\n",
    "ax.set_title(label =  'Status of Customers across various age groups', size = 12)\n",
    "ax.set_xlabel(xlabel = 'Age Groups')\n",
    "plt.show()"
   ]
  },
  {
   "cell_type": "code",
   "execution_count": 20,
   "id": "a9bc652c-faa6-4641-bc86-87bcd5c7b30f",
   "metadata": {},
   "outputs": [
    {
     "data": {
      "text/plain": [
       "860"
      ]
     },
     "execution_count": 20,
     "metadata": {},
     "output_type": "execute_result"
    }
   ],
   "source": [
    "#train data\n",
    "#count high net worth (1): 860\n",
    "custTrain[(custTrain['Revenue_Grid']==1)]['REF_NO'].count()"
   ]
  },
  {
   "cell_type": "code",
   "execution_count": 21,
   "id": "29381edf-c94c-4095-8928-27793e0b3b95",
   "metadata": {
    "tags": []
   },
   "outputs": [
    {
     "data": {
      "text/plain": [
       "492"
      ]
     },
     "execution_count": 21,
     "metadata": {},
     "output_type": "execute_result"
    }
   ],
   "source": [
    "#train data\n",
    "#Count of those high net worth (1) individuals who have personal_loan: 0.0: 492 i.e. more than 50%\n",
    "# of total count of high net worth individuals\n",
    "custTrain[(custTrain['Revenue_Grid']==1) & (custTrain['Personal_Loan'] <= 0.00)]['REF_NO'].count()"
   ]
  },
  {
   "cell_type": "code",
   "execution_count": 69,
   "id": "3afd6701-f054-4ec5-8009-47f61a2414ed",
   "metadata": {},
   "outputs": [],
   "source": [
    "dfNilPersonalLoan = custTrain[custTrain['Personal_Loan'] <= 0.00]"
   ]
  },
  {
   "cell_type": "code",
   "execution_count": 70,
   "id": "99530e99-0de0-418f-a64d-ce60acb7a0d1",
   "metadata": {},
   "outputs": [
    {
     "data": {
      "image/png": "[encoded data removed]",
      "text/plain": [
       "<Figure size 1080x504 with 1 Axes>"
      ]
     },
     "metadata": {
      "needs_background": "light"
     },
     "output_type": "display_data"
    }
   ],
   "source": [
    "fig = plt.figure(figsize=[15, 7])\n",
    "\n",
    "ax = sns.countplot(x='gender',hue='Revenue_Grid',data=dfNilPersonalLoan)\n",
    "\n",
    "show_values(ax)\n",
    "\n",
    "ax.set_title(label = 'Gender Wise HNI Data', size = 12)\n",
    "ax.set_xlabel(xlabel = 'Gender')\n",
    "plt.show()"
   ]
  },
  {
   "cell_type": "code",
   "execution_count": 66,
   "id": "439757a0-6b56-428f-89c7-c5b0fe5e7f2e",
   "metadata": {},
   "outputs": [
    {
     "data": {
      "image/png": "[encoded data removed]",
      "text/plain": [
       "<Figure size 1080x504 with 1 Axes>"
      ]
     },
     "metadata": {
      "needs_background": "light"
     },
     "output_type": "display_data"
    }
   ],
   "source": [
    "#displaying the HNI data gender wise\n",
    "\n",
    "#hniDataGenderWise= custTrain['gender'][custTrain['Revenue_Grid'] == 1]\n",
    "\n",
    "fig = plt.figure(figsize=[15, 7])\n",
    "\n",
    "ax = sns.countplot(x='gender',hue='Revenue_Grid',data=custTrain)\n",
    "\n",
    "show_values(ax)\n",
    "\n",
    "ax.set_title(label = 'Gender Wise HNI Data', size = 12)\n",
    "ax.set_xlabel(xlabel = 'Gender')\n",
    "plt.show()"
   ]
  },
  {
   "cell_type": "code",
   "execution_count": 457,
   "id": "91423ff5-309c-48c9-b58a-313fef563d4b",
   "metadata": {
    "tags": []
   },
   "outputs": [
    {
     "data": {
      "image/png": "[encoded data removed]",
      "text/plain": [
       "<Figure size 1080x504 with 1 Axes>"
      ]
     },
     "metadata": {
      "needs_background": "light"
     },
     "output_type": "display_data"
    }
   ],
   "source": [
    "#displaying the HNI data region wise\n",
    "data = custTrain['region'][custTrain['Revenue_Grid'] == 1]\n",
    "\n",
    "fig = plt.figure(figsize=[15, 7])\n",
    "\n",
    "\n",
    "\n",
    "ax = sns.countplot(y=data)\n",
    "\n",
    "show_values(ax,'h',space=0)\n",
    "\n",
    "ax.set_title(label = 'Region Wise HNI Data', size = 12)\n",
    "ax.set_xlabel(xlabel = 'Region')\n",
    "\n",
    "plt.show()\n"
   ]
  },
  {
   "cell_type": "markdown",
   "id": "ca5a40fd-7f01-4949-beed-22f2a205a4aa",
   "metadata": {
    "tags": []
   },
   "source": [
    "# Comparison of Number of Children between HNI(1) and LNI(2)"
   ]
  },
  {
   "cell_type": "code",
   "execution_count": 464,
   "id": "e45a89cc-0135-4da1-9bd0-32aff01a9490",
   "metadata": {
    "tags": []
   },
   "outputs": [
    {
     "data": {
      "image/png": "[encoded data removed]",
      "text/plain": [
       "<Figure size 1080x504 with 2 Axes>"
      ]
     },
     "metadata": {
      "needs_background": "light"
     },
     "output_type": "display_data"
    }
   ],
   "source": [
    "#train data\n",
    "childData1 = custTrain['children'][custTrain['Revenue_Grid'] == 1]\n",
    "childData2 = custTrain['children'][custTrain['Revenue_Grid'] == 2]\n",
    "\n",
    "\n",
    "fig, (ax1, ax2) = plt.subplots(nrows = 2, ncols = 1, sharex = True, figsize = (15, 7))\n",
    "sns.countplot(childData1,ax=ax1)\n",
    "ax1.set_title(label = 'Children HNI', size = 12)\n",
    "ax1.set_xlabel(xlabel = 'Number of Children')\n",
    "show_values(ax1)\n",
    "\n",
    "sns.countplot( childData2,ax=ax2)\n",
    "ax2.set_title(label = 'Children LNI', size = 12)\n",
    "ax2.set_xlabel(xlabel = 'Number of Children')\n",
    "show_values(ax2)\n",
    "\n",
    "plt.show()"
   ]
  },
  {
   "cell_type": "code",
   "execution_count": 97,
   "id": "35028920-2089-4c82-b4e1-d35eeebbb62f",
   "metadata": {},
   "outputs": [],
   "source": [
    "#using Standard Scaler\n",
    "obj= StandardScaler()\n",
    "  \n",
    "# Splitting the independent and dependent variables\n",
    "i_data = custTrain.drop(labels=['children','age_band','status','occupation','occupation_partner','self_employed','self_employed_partner','year_last_moved','TVarea','post_code','post_area','gender','region','home_status','family_income','Revenue_Grid'],axis=1)\n",
    "\n",
    "response = custTrain.Revenue_Grid\n",
    "\n",
    "scale = obj.fit_transform(i_data) \n",
    "\n",
    "#print(scale)\n",
    "\n",
    "# standardization \n"
   ]
  },
  {
   "cell_type": "code",
   "execution_count": 98,
   "id": "53f9fe61-6677-4c99-af3f-76a758fc06cc",
   "metadata": {},
   "outputs": [
    {
     "data": {
      "text/plain": [
       "array([[-9.97333156e-02,  7.29094386e-02, -2.03502249e-01, ...,\n",
       "         1.87067993e+00,  2.64675865e+00,  2.50253426e+00],\n",
       "       [ 9.91380538e-01,  2.48881962e-01,  3.59093837e-01, ...,\n",
       "        -2.33495088e-01, -5.82764823e-02, -1.23150186e-03],\n",
       "       [ 1.18793153e+00, -4.54617081e-01, -2.73431589e-01, ...,\n",
       "        -6.10436282e-01, -6.76591939e-01, -6.91186795e-01],\n",
       "       ...,\n",
       "       [ 1.00128643e-01, -4.54617081e-01,  7.75634972e-01, ...,\n",
       "         8.45490450e-02, -1.78965439e-03,  1.54266988e-01],\n",
       "       [-1.45000552e+00, -4.54617081e-01,  1.69412082e-01, ...,\n",
       "        -6.64683576e-01, -7.98684545e-01, -9.09937342e-01],\n",
       "       [ 7.43359072e-01,  9.91486010e-01,  3.58967383e-01, ...,\n",
       "         5.22247208e-01,  7.30512675e-01,  6.59637078e-01]])"
      ]
     },
     "execution_count": 98,
     "metadata": {},
     "output_type": "execute_result"
    }
   ],
   "source": [
    "scale"
   ]
  },
  {
   "cell_type": "code",
   "execution_count": 99,
   "id": "0890251c-1ee2-47c7-9170-26a563ad4884",
   "metadata": {},
   "outputs": [
    {
     "name": "stdout",
     "output_type": "stream",
     "text": [
      "X_train shape =  (6499, 16)\n",
      "X_test shape =  (1625, 16)\n",
      "y_train shape =  (6499,)\n",
      "y_test shape =  (1625,)\n"
     ]
    }
   ],
   "source": [
    "X_train,X_test, y_train , y_test = train_test_split(i_data, response,test_size=0.20, random_state=123)\n",
    "\n",
    "print('X_train shape = ',X_train.shape)\n",
    "print('X_test shape = ',X_test.shape)\n",
    "print('y_train shape = ',y_train.shape)\n",
    "print('y_test shape = ',y_test.shape)"
   ]
  },
  {
   "cell_type": "code",
   "execution_count": 100,
   "id": "49d2bd11-2fbc-4e05-8589-60d6818189c0",
   "metadata": {},
   "outputs": [
    {
     "data": {
      "text/plain": [
       "RandomForestClassifier(random_state=123)"
      ]
     },
     "execution_count": 100,
     "metadata": {},
     "output_type": "execute_result"
    }
   ],
   "source": [
    "rfc = RandomForestClassifier(random_state=123)\n",
    "rfc.fit(X_train, y_train)"
   ]
  },
  {
   "cell_type": "code",
   "execution_count": 101,
   "id": "0f833fe1-d480-4f07-aba9-b0eeaa5080bb",
   "metadata": {},
   "outputs": [],
   "source": [
    "y_test_pred = rfc.predict(X_test)"
   ]
  },
  {
   "cell_type": "code",
   "execution_count": 102,
   "id": "6b8d6a0d-249d-4a16-b10e-7ba2750134e3",
   "metadata": {},
   "outputs": [
    {
     "name": "stdout",
     "output_type": "stream",
     "text": [
      "[[ 135   42]\n",
      " [  13 1435]]\n",
      "              precision    recall  f1-score   support\n",
      "\n",
      "           1       0.91      0.76      0.83       177\n",
      "           2       0.97      0.99      0.98      1448\n",
      "\n",
      "    accuracy                           0.97      1625\n",
      "   macro avg       0.94      0.88      0.91      1625\n",
      "weighted avg       0.97      0.97      0.96      1625\n",
      "\n"
     ]
    }
   ],
   "source": [
    "from sklearn.metrics import confusion_matrix\n",
    "\n",
    "print(confusion_matrix(y_test,y_test_pred))\n",
    "print(classification_report(y_test,y_test_pred))"
   ]
  },
  {
   "cell_type": "code",
   "execution_count": 103,
   "id": "eb075b7c-77cd-4fd2-ba57-0f1a873824e0",
   "metadata": {},
   "outputs": [],
   "source": [
    "X_test = custTest.drop(labels=['children','age_band','status','occupation','occupation_partner','self_employed','self_employed_partner','year_last_moved','TVarea','post_code','post_area','gender','region','home_status','family_income'],axis=1)"
   ]
  },
  {
   "cell_type": "code",
   "execution_count": 104,
   "id": "eb7000ec-4eec-452a-8112-35789e5aadfe",
   "metadata": {},
   "outputs": [],
   "source": [
    "y_pred = rfc.predict(X_test)"
   ]
  },
  {
   "cell_type": "code",
   "execution_count": 105,
   "id": "76f4adb6-b3a3-465a-b99d-c9997c640f4d",
   "metadata": {
    "tags": []
   },
   "outputs": [
    {
     "data": {
      "text/plain": [
       "array([2, 2, 2, ..., 1, 1, 2])"
      ]
     },
     "execution_count": 105,
     "metadata": {},
     "output_type": "execute_result"
    }
   ],
   "source": [
    "y_pred"
   ]
  },
  {
   "cell_type": "code",
   "execution_count": 106,
   "id": "18c67443-d942-4250-9129-562171118e53",
   "metadata": {
    "tags": []
   },
   "outputs": [],
   "source": [
    "output = pd.DataFrame({'REF Number': custTest.REF_NO, 'Revenue Grid': y_pred})\n",
    "output.to_csv('submission.csv', index=False, header=False)"
   ]
  }
 ],
 "metadata": {
  "kernelspec": {
   "display_name": "Python 3 (ipykernel)",
   "language": "python",
   "name": "python3"
  },
  "language_info": {
   "codemirror_mode": {
    "name": "ipython",
    "version": 3
   },
   "file_extension": ".py",
   "mimetype": "text/x-python",
   "name": "python",
   "nbconvert_exporter": "python",
   "pygments_lexer": "ipython3",
   "version": "3.8.2"
  }
 },
 "nbformat": 4,
 "nbformat_minor": 5
}
